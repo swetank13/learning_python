{
 "cells": [
  {
   "cell_type": "markdown",
   "id": "2df86bd1-3932-4e30-b1fa-0171343658f5",
   "metadata": {},
   "source": [
    "# Basic points in Python\n",
    "\n",
    "1. If the identifier starts with _ symbol then it indicates that it is private.\n",
    "2. If identifier starts with __(Two Under Score Symbols) indicating that strongly private identifier.\n",
    "3. If the identifier starts and ends with two underscore symbols, then the identifier is a language defined special name, which is also known as magic methods.\n",
    "4. All Fundamental Data types are immutable.\n",
    "5. In Python if a new object is required, then PVM(Python Virtual Machine) won’t create object immediately. First it will check is any object available with the required content or not. If available then existing object will be reused. If it is not available then only a new object will be created. The advantage of this approach is memory utilization and performance will be improved.\n",
    "But the problem in this approach is, several references pointing to the same object, by using one reference if we are allowed to change the content in the existing object then the remaining references will be affected. To prevent this immutability concept is required. According to this, once we create an object we are not allowed to change content. If we are changing with those changes a new object will be created.\n",
    "6. Bytes data type: The only allowed values for byte data type are 0 to 256. By mistake, if we are trying to provide any other values then we will get a value error.\n"
   ]
  },
  {
   "cell_type": "markdown",
   "id": "bc030a98-970a-4ff8-bafb-fd3ef78363a1",
   "metadata": {},
   "source": [
    "# Data Types"
   ]
  },
  {
   "cell_type": "markdown",
   "id": "9f670185-a58d-452c-9e60-ea3d4a2dbd35",
   "metadata": {},
   "source": [
    "## List\n",
    "An ordered, mutable, heterogeneous collection of elements is nothing but list, where duplicates also allowed.\n",
    "#### Most common used methods with example"
   ]
  },
  {
   "cell_type": "code",
   "execution_count": 37,
   "id": "295b6bc1-d10b-4032-b988-651d47e9e591",
   "metadata": {},
   "outputs": [
    {
     "name": "stdout",
     "output_type": "stream",
     "text": [
      "[10, 10.5, 'Swetank', True, 10, 'Ananad']\n",
      "[10, 10.5, 'Swetank', True, 10, 'Ananad', 1, 2]\n",
      "[10, 10.5, 'Swetank', 'Anand', True, 10, 'Ananad', 1, 2]\n",
      "[10, 10.5, 'Swetank', True, 10, 'Ananad', 1, 2]\n",
      "[10, 10.5, 'Swetank', True, 10, 1, 2]\n",
      "[10, 10.5, 'Swetank', True, 10, 1]\n",
      "[10, 10.5, 'Swetank', True, 10, 1]\n",
      "[1, 10, True, 'Swetank', 10.5, 10]\n"
     ]
    }
   ],
   "source": [
    "alist = [10,10.5,'Swetank',True,10]\n",
    "# append(x): Adds a single element to the end of the list.\n",
    "alist.append(\"Ananad\")\n",
    "print(alist)\n",
    "# extend(iterable): Adds each element from another iterable to the list.\n",
    "alist.extend([1, 2])\n",
    "print(alist)\n",
    "# insert(index, element): Inserts element at a specific index.\n",
    "alist.insert(3, \"Anand\")\n",
    "print(alist)\n",
    "# remove(x): Removes the first occurrence of x\n",
    "alist.remove(\"Anand\")\n",
    "print(alist)\n",
    "# pop([index]): Removes and returns element at index. Defaults to last element.\n",
    "alist.pop(5)\n",
    "print(alist)\n",
    "alist.pop()\n",
    "print(alist)\n",
    "# count(x): Counts how many times x appears.\n",
    "alist.count(\"Swetank\")\n",
    "print(alist)\n",
    "# reverse(): Reverses the list in place.\n",
    "alist.reverse()\n",
    "print(alist)\n",
    "# sort(): Sorts the list in place (ascending by default).\n",
    "#alist.sort(), alist.sort(reverse=True)"
   ]
  },
  {
   "cell_type": "markdown",
   "id": "f0e7fbae-77ad-47ec-b565-d26db43169ba",
   "metadata": {},
   "source": [
    "### Common interview question of list\n",
    "1. Difference between append() and extend()\n",
    "   append([1,2]) adds the list as a single element where as extend([1,2]) adds each element individually\n",
    "2. Reverse without using reverse(): l[::-1]\n",
    "3. List comprehension — not a method, but heavily used: [x**2 for x in range(5) if x % 2 == 0]"
   ]
  },
  {
   "cell_type": "markdown",
   "id": "02525726-4db5-4483-9aba-8396977a629c",
   "metadata": {},
   "source": [
    "## Commonly used\n",
    "1. Tuple: Tuple data type is the same as list data type except that it is immutable. Tuple elements can be represented within parenthesis. Tuple is the read only version of list.\n",
    "Ex: t=(10,20,30,40)\n",
    "2. Set data type: If we want to represent a group of values without duplicates where order is not important then we should go for set Data Type.\n",
    "Insertion order is not preserved, Duplicates are not allowed, Heterogeneous objects are allowed, Index concept is not applicable\n",
    "It is a mutable collection, grow able in nature.\n",
    "Ex: s={10,20,30,40}\n",
    "3. Frozen set data type: It is the same as set except that it is immutable. Hence we cannot use add or remove functions.\n",
    "It is immutable version of set, making them hash table and usable as dictionary or set elements."
   ]
  },
  {
   "cell_type": "markdown",
   "id": "d373d3a1-703a-4173-b3a6-29b5b5a541e6",
   "metadata": {},
   "source": [
    "## Dict data type\n",
    "1. Mappings are a collection of objects that are stored by a *key* and mutable in nature, unlike a sequence that stored objects by their relative position. This is an important distinction, since mappings will not retain order since they have objects defined by a key.\n",
    "Duplicate keys are not allowed but values can be duplicated. If we are trying to insert an entry with a duplicate key then old value will be replaced with new value. Heterogeneous objects are allowed for both key and values. Insertion order is not preserved and Dictionaries are dynamic.\n",
    "Indexing and slicing concepts are not applicable.\n",
    "Ex: d = {100:'durga' ,200:'ravi', 300:'shiva'}"
   ]
  },
  {
   "cell_type": "code",
   "execution_count": 39,
   "id": "0533e6a4-2167-4b95-8e9f-194b88a605bf",
   "metadata": {},
   "outputs": [
    {
     "name": "stdout",
     "output_type": "stream",
     "text": [
      "1\n",
      "0\n"
     ]
    }
   ],
   "source": [
    "d = {'a': 1, 'b': 2, 'c': 3}\n",
    "# get(key, default): Safely get the value for a key; returns default if key is missing.\n",
    "print(d.get('a'))\n",
    "print(d.get('d', 0))\n",
    "# keys(): Returns a view of all keys."
   ]
  },
  {
   "cell_type": "code",
   "execution_count": null,
   "id": "8dd73cde-3251-45ed-96f3-9b6cdf57a966",
   "metadata": {},
   "outputs": [],
   "source": []
  }
 ],
 "metadata": {
  "kernelspec": {
   "display_name": "Python 3 (ipykernel)",
   "language": "python",
   "name": "python3"
  },
  "language_info": {
   "codemirror_mode": {
    "name": "ipython",
    "version": 3
   },
   "file_extension": ".py",
   "mimetype": "text/x-python",
   "name": "python",
   "nbconvert_exporter": "python",
   "pygments_lexer": "ipython3",
   "version": "3.12.7"
  }
 },
 "nbformat": 4,
 "nbformat_minor": 5
}
