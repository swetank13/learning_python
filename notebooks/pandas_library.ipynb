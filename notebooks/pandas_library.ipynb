{
 "cells": [
  {
   "cell_type": "markdown",
   "id": "5149121c-e91b-41ac-af10-90568b2a8808",
   "metadata": {},
   "source": [
    "# Pandas Library\n",
    "1. User guide: https://pandas.pydata.org/docs/user_guide/index.html\n",
    "2. "
   ]
  },
  {
   "cell_type": "code",
   "execution_count": null,
   "id": "bbca01d7-915d-4a75-a544-a9f1bd4c32a4",
   "metadata": {},
   "outputs": [],
   "source": []
  }
 ],
 "metadata": {
  "kernelspec": {
   "display_name": "Python 3 (ipykernel)",
   "language": "python",
   "name": "python3"
  },
  "language_info": {
   "codemirror_mode": {
    "name": "ipython",
    "version": 3
   },
   "file_extension": ".py",
   "mimetype": "text/x-python",
   "name": "python",
   "nbconvert_exporter": "python",
   "pygments_lexer": "ipython3",
   "version": "3.12.7"
  }
 },
 "nbformat": 4,
 "nbformat_minor": 5
}
