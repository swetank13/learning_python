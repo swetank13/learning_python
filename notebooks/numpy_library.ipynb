{
 "cells": [
  {
   "cell_type": "markdown",
   "id": "cea7dc87-d68c-4af1-a82b-f24cdee399ee",
   "metadata": {},
   "source": [
    "## Numpy Library\n",
    "NumPy (short for Numerical Python) is a powerful library in Python for numerical and scientific computing. It provides a high-performance multidimensional array object and tools for working with these arrays. NumPy is fundamental in data science and machine learning because it enables efficient computations and serves as the foundation for many other libraries, such as Pandas, Scikit-learn, TensorFlow, and Matplotlib.\n",
    "\n",
    "Main benefit of numpy over python list:\n",
    "1. Less memory\n",
    "2. Fast (In list data is scattered in memory where as in numpy data is contiguous)\n",
    "3. Convenient\n"
   ]
  },
  {
   "cell_type": "code",
   "execution_count": 2,
   "id": "9a75a207-82e5-4042-a92d-593ac6669dea",
   "metadata": {},
   "outputs": [],
   "source": [
    "import numpy as np"
   ]
  },
  {
   "cell_type": "code",
   "execution_count": 3,
   "id": "b362b8e4-acd8-4202-bef5-fe5b47aeefb1",
   "metadata": {},
   "outputs": [
    {
     "data": {
      "text/plain": [
       "1"
      ]
     },
     "execution_count": 3,
     "metadata": {},
     "output_type": "execute_result"
    }
   ],
   "source": [
    "# revenues of quarter 1\n",
    "rev_q1 = np.array([10, 12, 9])\n",
    "rev_q1.ndim"
   ]
  },
  {
   "cell_type": "code",
   "execution_count": 4,
   "id": "b208ca02-896d-4969-b991-7fbf87e64f2c",
   "metadata": {},
   "outputs": [
    {
     "data": {
      "text/plain": [
       "2"
      ]
     },
     "execution_count": 4,
     "metadata": {},
     "output_type": "execute_result"
    }
   ],
   "source": [
    "# revenues of quarter 1 and 2\n",
    "rev = np.array([[10, 12, 9],[15, 11, 13]])\n",
    "rev.ndim"
   ]
  },
  {
   "cell_type": "code",
   "execution_count": 9,
   "id": "81537de2-cc70-4218-bae0-82ea21f8748f",
   "metadata": {},
   "outputs": [
    {
     "name": "stdout",
     "output_type": "stream",
     "text": [
      "15\n",
      "4\n"
     ]
    }
   ],
   "source": [
    "# Indexing\n",
    "# find revenues of first month of second quarter\n",
    "print(rev[1,0])\n",
    "print(rev.itemsize) # Size of each element"
   ]
  },
  {
   "cell_type": "code",
   "execution_count": 11,
   "id": "ad8869f1-d6fb-43b1-90d4-431771f5b144",
   "metadata": {},
   "outputs": [],
   "source": [
    "## arange, flatten, reshape, min, max"
   ]
  },
  {
   "cell_type": "code",
   "execution_count": 25,
   "id": "02d77d23-5902-40e9-ae9e-942ca095f152",
   "metadata": {},
   "outputs": [
    {
     "name": "stdout",
     "output_type": "stream",
     "text": [
      "rev: [[10 12  9]\n",
      " [15 11 13]]\n",
      "Numpy arange: [20 21 22 23 24 25 26 27 28 29]\n",
      "Numpy flatten: [10 12  9 15 11 13]\n",
      "Numpy ravel: [10 12  9 15 11 13]\n",
      "Numpy reshape: [[10 12]\n",
      " [ 9 15]\n",
      " [11 13]]\n",
      "Numpy min: 9\n",
      "Numpy max: 15\n",
      "Numpy sum at axis: [25 23 22]\n",
      "Numpy sum at axis: [31 39]\n"
     ]
    }
   ],
   "source": [
    "print(f\"rev: {rev}\")\n",
    "print(f\"Numpy arange: {np.arange(20,30)}\")\n",
    "print(f\"Numpy flatten: {rev.flatten()}\")\n",
    "print(f\"Numpy ravel: {rev.ravel()}\")\n",
    "print(f\"Numpy reshape: {rev.reshape(3,2)}\")\n",
    "print(f\"Numpy min: {rev.min()}\")\n",
    "print(f\"Numpy max: {rev.max()}\")\n",
    "print(f\"Numpy sum at axis: {rev.sum(axis=0)}\")  # total revenue of first, second and third month of Q1 and Q2\n",
    "print(f\"Numpy sum at axis: {rev.sum(axis=1)}\") # total Q1 and Q2 revenue"
   ]
  },
  {
   "cell_type": "markdown",
   "id": "8acb4f39-921b-4153-ba90-b1656d12906f",
   "metadata": {},
   "source": [
    "## Indexing, Slicing, vstack, hstack"
   ]
  },
  {
   "cell_type": "code",
   "execution_count": 18,
   "id": "a26bef0f-bda5-425e-8d28-86be3783e0b6",
   "metadata": {},
   "outputs": [
    {
     "data": {
      "text/plain": [
       "array([6, 7])"
      ]
     },
     "execution_count": 18,
     "metadata": {},
     "output_type": "execute_result"
    }
   ],
   "source": [
    "a = np.array([6,7,8,9])\n",
    "a[0:2]"
   ]
  },
  {
   "cell_type": "code",
   "execution_count": 21,
   "id": "0307dbcd-d89b-45e7-8c87-c90ad1c4b984",
   "metadata": {},
   "outputs": [],
   "source": [
    "# Customer ID, Name\n",
    "c = np.array([\n",
    "    [101, 'Mira'],\n",
    "    [102, 'Abdul'],\n",
    "    [103, 'Andrea']\n",
    "])\n",
    "# Customer Id, Purchase Amount, Purchase Date\n",
    "d = np.array([\n",
    "    [101, 250.50, '2023-08-01'],\n",
    "    [102, 150.00, '2023-08-02'],\n",
    "    [103, 300.75, '2023-08-01']\n",
    "])\n",
    "\n",
    "e = np.array([\n",
    "    [104, 'Venkat'],\n",
    "    [105, 'John'],\n",
    "    [106, 'Kathy'],\n",
    "])"
   ]
  },
  {
   "cell_type": "code",
   "execution_count": 22,
   "id": "5b8bbf57-cec5-4f79-90ab-a10cd7fb67a3",
   "metadata": {},
   "outputs": [
    {
     "data": {
      "text/plain": [
       "array([['101', 'Mira', '101', '250.5', '2023-08-01'],\n",
       "       ['102', 'Abdul', '102', '150.0', '2023-08-02'],\n",
       "       ['103', 'Andrea', '103', '300.75', '2023-08-01']], dtype='<U32')"
      ]
     },
     "execution_count": 22,
     "metadata": {},
     "output_type": "execute_result"
    }
   ],
   "source": [
    "np.hstack((c, d))"
   ]
  },
  {
   "cell_type": "code",
   "execution_count": 23,
   "id": "83cb5f52-7dff-462d-8ce4-3b9a8d8dfc3e",
   "metadata": {},
   "outputs": [
    {
     "data": {
      "text/plain": [
       "array([['101', 'Mira'],\n",
       "       ['102', 'Abdul'],\n",
       "       ['103', 'Andrea'],\n",
       "       ['104', 'Venkat'],\n",
       "       ['105', 'John'],\n",
       "       ['106', 'Kathy']], dtype='<U11')"
      ]
     },
     "execution_count": 23,
     "metadata": {},
     "output_type": "execute_result"
    }
   ],
   "source": [
    "np.vstack((c,e))"
   ]
  },
  {
   "cell_type": "code",
   "execution_count": null,
   "id": "e07516ca-7cf0-4956-b294-373de9cacaee",
   "metadata": {},
   "outputs": [],
   "source": []
  }
 ],
 "metadata": {
  "kernelspec": {
   "display_name": "Python 3 (ipykernel)",
   "language": "python",
   "name": "python3"
  },
  "language_info": {
   "codemirror_mode": {
    "name": "ipython",
    "version": 3
   },
   "file_extension": ".py",
   "mimetype": "text/x-python",
   "name": "python",
   "nbconvert_exporter": "python",
   "pygments_lexer": "ipython3",
   "version": "3.12.7"
  }
 },
 "nbformat": 4,
 "nbformat_minor": 5
}
